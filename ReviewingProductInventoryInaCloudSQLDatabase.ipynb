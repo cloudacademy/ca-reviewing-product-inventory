{
 "cells": [
  {
   "cell_type": "markdown",
   "metadata": {},
   "source": [
    "# Lab3: Reviewing Product Inventory in a Cloud SQL Database"
   ]
  },
  {
   "cell_type": "markdown",
   "metadata": {},
   "source": [
    "**Tutorial Prerequisites**\n",
    "- Basic understanding of Python"
   ]
  },
  {
   "cell_type": "markdown",
   "metadata": {},
   "source": [
    "## What is a Database"
   ]
  },
  {
   "cell_type": "markdown",
   "metadata": {},
   "source": [
    "A _database_, at its core, is an organized collection of data. Databases are meant to be fast at retrieving, storing, and updating these collections. To help keep things organized, a database keeps related data in a collection called a _table_. Data is stored inside a table as _columns_ and _rows_. The _columns_ identify the data that is being stored in the table, and the _rows_ are the actual data itself. Refer to the figure below for a basic example of organized data inside the database, with rows and columns.\n",
    "\n",
    "| name | city | code |\n",
    "|-------|-------|-------|\n",
    "| Detroit Metropolitan Airport | Romulous | DTW |\n",
    "| Seattle-Tacoma International Airport | SeaTac | SEA |\n",
    "| Los Angeles International Airport | Los Angeles | LAX |"
   ]
  },
  {
   "cell_type": "markdown",
   "metadata": {},
   "source": [
    "## Moving Inventory Data from a Spreadsheet into a Database"
   ]
  },
  {
   "cell_type": "markdown",
   "metadata": {},
   "source": [
    "Now the fun stuff begins, and you have a chance to get your hands dirty.\n",
    "In the following you will:\n",
    "- Provision (and allow connections to) a MySQL database instance.\n",
    "- Connect to the MySQL instance using python.\n",
    "- Execute SQL within python and print the result.\n",
    "- Insert data from a CSV file into the database using python."
   ]
  },
  {
   "cell_type": "markdown",
   "metadata": {},
   "source": [
    "### Provisioning a Database\n",
    "In this lab we will be importing our sample inventory data, and order history from a CSV into a SQL Database. To begin, make sure you are signed into your Google account and can access the [Google Cloud Console](https://console.cloud.google.com/)."
   ]
  },
  {
   "cell_type": "markdown",
   "metadata": {},
   "source": [
    "Now that you're inside the Google Cloud Platform (commonly referred to a _GCP_), let's start putting together our database!"
   ]
  },
  {
   "cell_type": "markdown",
   "metadata": {},
   "source": [
    "From the search bar at the top of the page, type in `SQL`. This will filter out the _many_ Google Cloud products. From the dropdown list, select **SQL** under **PRODUCTS & PAGES**\n",
    "\n",
    "![Select the SQL item from the dropdown](assets/lab3/select_sql.png)"
   ]
  },
  {
   "cell_type": "markdown",
   "metadata": {},
   "source": [
    "Click the **CREATE INSTANCE** button\n",
    "\n",
    "![create instance button](assets/lab3/create_instance_button.png)\n",
    "\n",
    "and then select **MySQL** from the options.\n",
    "\n",
    "![select the mysql option](assets/lab3/create_mysql.png)\n"
   ]
  },
  {
   "cell_type": "markdown",
   "metadata": {},
   "source": [
    "#### Setting the MySQL Database Configuation"
   ]
  },
  {
   "cell_type": "markdown",
   "metadata": {},
   "source": [
    "The database creation wizard is displayed below. In your browser, fill out the following items:\n",
    "\n",
    "- **Instance ID**: This is permanent and cannot be changed. Make it something descriptive.\n",
    "- **Root Password**: This is the password we'll use in our python code to connect to the database. You also have the option to have Google generate a random, complex password for you. Don't lose this!\n",
    "- **Region**: Which datacenter your database will be located. Select `us-central1` from the dropdown.\n",
    "- **Database version**: The versions of MySQL that GCP has available. For our purposes, version 5.7 is fine.\n",
    "\n",
    "![database config info](assets/lab3/database_setup.png)\n",
    "\n",
    "Click the **CREATE** button!\n",
    "The database will take some time to provision. Grab a coffee, but make sure its a quick one, you don't have enough time to grind the beans yourself."
   ]
  },
  {
   "cell_type": "markdown",
   "metadata": {},
   "source": [
    "#### Exposing Connections"
   ]
  },
  {
   "cell_type": "markdown",
   "metadata": {},
   "source": [
    "Once the database and provisioned, click on the name from the list. This gives you a 10,000 foot view of how your database is operating, and some key pieces of information is presented (i.e. public IP address). Even though you can see your database running, you cannot connect to it. Google Cloud's firewall rules do not allow for incomming connections through third-party apps. If you have the `gcloud` command installed on your machine, you can connect to it through the [Cloud SQL Proxy](https://cloud.google.com/sql/docs/mysql/sql-proxy).\n",
    "This is not ideal.\n",
    "Our python application needs to be able to connect to our database, from any user, anywhere in the world.\n",
    "So let's fix that!\n",
    "\n",
    "On the lefthand side of the screen, click **Connections**.\n",
    "When the page has loaded, the first section controls the connectivity of the database and should look similar to the image below.\n",
    "\n",
    "![database connectivity](assets/lab3/connectivity.png)\n",
    "\n",
    "Click the **Add network** button and enter the following:\n",
    "- **Name**: The Internet\n",
    "- **Network**: `0.0.0.0/0`\n",
    "\n",
    "This configuration allows any connection from any IP address, and it is ***not*** secure for a production enviornment.\n",
    "In fact, GCP will even show you a warning message about how this is a bad idea. Ignore this and click **Done** and then **Save**."
   ]
  },
  {
   "cell_type": "markdown",
   "metadata": {},
   "source": [
    "### Connect to a database using Python"
   ]
  },
  {
   "cell_type": "markdown",
   "metadata": {},
   "source": [
    "Edit the code below with information about your MySQL database. You will be connecting with the `root` user, but the connection IP address and password you will need to fill in yourself."
   ]
  },
  {
   "cell_type": "code",
   "execution_count": 10,
   "metadata": {},
   "outputs": [
    {
     "name": "stdout",
     "output_type": "stream",
     "text": [
      "Requirement already satisfied: mysql-connector in /opt/conda/lib/python3.7/site-packages (2.2.9)\n",
      "5.7.25-google-log\n"
     ]
    }
   ],
   "source": [
    "! pip install mysql-connector\n",
    "\n",
    "import mysql.connector\n",
    "## Make sure the Host matches your GCP instance along with the password created earlier.\n",
    "db = mysql.connector.connect(\n",
    "  host=\"34.94.61.132\",\n",
    "  user=\"root\",\n",
    "  passwd=\"superadmin123\"\n",
    ")\n",
    "\n",
    "cursor = db.cursor()\n",
    "cursor.execute(\"SELECT VERSION() FROM DUAL\")\n",
    "print(cursor.fetchone()[0])\n",
    "\n",
    "# clean up\n",
    "cursor.close()\n",
    "db.close()"
   ]
  },
  {
   "cell_type": "markdown",
   "metadata": {},
   "source": [
    "When you run the code above, you'll see the current version of your MySQL instance. This is a good indicator that your database is up and running and that you can connect to it with python. Now let's prep MySQL for the data."
   ]
  },
  {
   "cell_type": "markdown",
   "metadata": {},
   "source": [
    "### Creating the Database and Schema"
   ]
  },
  {
   "cell_type": "markdown",
   "metadata": {},
   "source": [
    "We must create the table within the database which will hold our inventory data.\n",
    "The table will be called `product_table` which is defined by a _schema_ which contains the various columns along with datatypes.\n",
    "Our data schema looks like the following.\n",
    "Don't be alarmed if you don't understand all the details.\n",
    "Just note that the fields in the table are a representation of the headers in the CSV file.\n",
    "\n",
    "```sql\n",
    "product_table (\n",
    "    ProductName VARCHAR(50),\n",
    "    Description VARCHAR(255),\n",
    "    ProductSku BIGINT(12),\n",
    "    QuantityInStock INT(5),\n",
    "    ReorderLevel INT(5),\n",
    "    WholeSaleCost DECIMAL(8,2),\n",
    "    RetailCost DECIMAL(8,2)\n",
    ")\n",
    "```\n",
    "\n",
    "To do create this in python, execute the following code."
   ]
  },
  {
   "cell_type": "code",
   "execution_count": 33,
   "metadata": {},
   "outputs": [
    {
     "name": "stdout",
     "output_type": "stream",
     "text": [
      "Requirement already satisfied: mysql-connector in /opt/conda/lib/python3.7/site-packages (2.2.9)\n",
      "tables: ['product_table']\n"
     ]
    }
   ],
   "source": [
    "! pip install mysql-connector\n",
    "\n",
    "import mysql.connector\n",
    "# make sure the host matches your GCP instance along with the password created earlier.\n",
    "db = mysql.connector.connect(\n",
    "  host=\"34.94.61.132\",\n",
    "  user=\"root\",\n",
    "  passwd=\"superadmin123\"\n",
    ")\n",
    "\n",
    "cursor = db.cursor()\n",
    "\n",
    "# always start fresh. remove the database if it exists\n",
    "cursor.execute(\"DROP DATABASE IF EXISTS inventory\")\n",
    "\n",
    "# create the database within MySQL\n",
    "cursor.execute(\"CREATE DATABASE IF NOT EXISTS inventory\")\n",
    "\n",
    "# tell MySQL to use the database and any operations are applied to it\n",
    "cursor.execute(\"USE inventory\")\n",
    "\n",
    "# create the schema described above\n",
    "cursor.execute(\"CREATE TABLE IF NOT EXISTS product_table (ProductName varchar(50),Description varchar(255),ProductSku bigint(12),QuantityInStock int(5),ReorderLevel int(5),WholeSaleCost decimal(8,2),RetailCost decimal(8,2));\")\n",
    "\n",
    "# confirm the table was successfully created\n",
    "cursor.execute(\"SHOW TABLES\")\n",
    "print('tables:', [t[0] for t in cursor.fetchall()])\n",
    "\n",
    "# clean up\n",
    "cursor.close()\n",
    "db.close()"
   ]
  },
  {
   "cell_type": "markdown",
   "metadata": {},
   "source": [
    "### Insert Data From CSV into the Database"
   ]
  },
  {
   "cell_type": "markdown",
   "metadata": {},
   "source": [
    "Now we will import our data from the provided `Lab3_inventory.csv` into our newly created table.  The code below iterates through the csv provided, and inserts every row into our table."
   ]
  },
  {
   "cell_type": "code",
   "execution_count": 35,
   "metadata": {},
   "outputs": [
    {
     "name": "stdout",
     "output_type": "stream",
     "text": [
      "Requirement already satisfied: mysql-connector in /opt/conda/lib/python3.7/site-packages (2.2.9)\n",
      "Inserting row into database: ['Mens Shampoo', 'Best brand Mens Shampoo', '1034403303', '10', '3', '3.25', '6.99']\n",
      "Inserting row into database: ['ScrewDriver Toolset', '3 Phillips, 2 Flathead toolset', '103443101', '4', '4', '8', '12.99']\n",
      "Inserting row into database: ['KeepFresh Detergent', 'Original detegent scent for washing clothes', '1034411101', '15', '3', '8.25', '13.99']\n",
      "Inserting row into database: ['MouthWash', 'Fresh Mint Mout wash', '122033020', '1', '5', '3.14', '4.99']\n",
      "Committing changes to database\n",
      "Success!\n"
     ]
    }
   ],
   "source": [
    "! pip install mysql-connector\n",
    "\n",
    "import csv\n",
    "import mysql.connector\n",
    "# make sure the host matches your GCP instance along with the password created earlier.\n",
    "db = mysql.connector.connect(\n",
    "  host=\"34.94.61.132\",\n",
    "  user=\"root\",\n",
    "  passwd=\"superadmin123\",\n",
    "  database='inventory'\n",
    ")\n",
    "\n",
    "cursor = db.cursor()\n",
    "\n",
    "with open('./data_files/lab3/inventory.csv') as datafile:\n",
    "    csv_data = csv.reader(datafile)\n",
    "    next(csv_data) \n",
    "    for row in csv_data:\n",
    "        print('Inserting row into database:', row)\n",
    "        cursor.execute (\"INSERT INTO product_table (ProductName,Description,ProductSku,QuantityInStock,ReorderLevel,WholeSaleCost,RetailCost) VALUES (%s, %s, %s, %s, %s, %s, %s)\",row)\n",
    "    print('Committing changes to database')\n",
    "    db.commit()\n",
    "    \n",
    "print('Success!')"
   ]
  },
  {
   "cell_type": "markdown",
   "metadata": {},
   "source": [
    "Congratulations! The database is now populated with data!\n",
    "\n",
    "#### **Lab:** Selecting data from a Cloud SQL Database\n",
    "Using the code from above as a guide, try to view all the data in the database.\n",
    "The SQL statement to use is `SELECT * FROM product_table`.\n",
    "Try and complete the following code."
   ]
  },
  {
   "cell_type": "code",
   "execution_count": 43,
   "metadata": {},
   "outputs": [
    {
     "name": "stdout",
     "output_type": "stream",
     "text": [
      "Requirement already satisfied: mysql-connector in /opt/conda/lib/python3.7/site-packages (2.2.9)\n",
      "('Mens Shampoo', 'Best brand Mens Shampoo', 1034403303, 10, 3, Decimal('3.25'), Decimal('6.99'))\n",
      "('ScrewDriver Toolset', '3 Phillips, 2 Flathead toolset', 103443101, 4, 4, Decimal('8.00'), Decimal('12.99'))\n",
      "('KeepFresh Detergent', 'Original detegent scent for washing clothes', 1034411101, 15, 3, Decimal('8.25'), Decimal('13.99'))\n",
      "('MouthWash', 'Fresh Mint Mout wash', 122033020, 1, 5, Decimal('3.14'), Decimal('4.99'))\n",
      "('Sample Product', 'Sample Description', 123456, 4, 2, Decimal('3.55'), Decimal('9.99'))\n",
      "('Sample Product', 'Sample Description', 123456, 4, 2, Decimal('3.55'), Decimal('9.99'))\n"
     ]
    }
   ],
   "source": [
    "! pip install mysql-connector\n",
    "\n",
    "import mysql.connector\n",
    "\n",
    "# connect to the database\n",
    "\n",
    "# retreive a cursor from the database\n",
    "\n",
    "# execute the SQL command in the cursor\n",
    "\n",
    "# fetchall() the data from the cursor into a variable called results\n",
    "\n",
    "# for row in results:\n",
    "#   print(row)\n",
    "\n",
    "# close() the cursor\n",
    "\n",
    "# close() the database"
   ]
  },
  {
   "cell_type": "markdown",
   "metadata": {},
   "source": [
    "The output should resemble the following:\n",
    "```\n",
    "('Mens Shampoo', 'Best brand Mens Shampoo', 1034403303, 10, 3, Decimal('3.25'), Decimal('6.99'))\n",
    "('ScrewDriver Toolset', '3 Phillips, 2 Flathead toolset', 103443101, 4, 4, Decimal('8.00'), Decimal('12.99'))\n",
    "('KeepFresh Detergent', 'Original detegent scent for washing clothes', 1034411101, 15, 3, Decimal('8.25'), Decimal('13.99'))\n",
    "('MouthWash', 'Fresh Mint Mout wash', 122033020, 1, 5, Decimal('3.14'), Decimal('4.99'))\n",
    "```"
   ]
  },
  {
   "cell_type": "markdown",
   "metadata": {},
   "source": [
    "#### **Example**: Getting a Python Dictionary of Product Names and Prices"
   ]
  },
  {
   "cell_type": "code",
   "execution_count": 44,
   "metadata": {},
   "outputs": [
    {
     "name": "stdout",
     "output_type": "stream",
     "text": [
      "Requirement already satisfied: mysql-connector in /opt/conda/lib/python3.7/site-packages (2.2.9)\n",
      "product dictionary: [{'name': 'Mens Shampoo', 'price': Decimal('6.99')}, {'name': 'ScrewDriver Toolset', 'price': Decimal('12.99')}, {'name': 'KeepFresh Detergent', 'price': Decimal('13.99')}, {'name': 'MouthWash', 'price': Decimal('4.99')}]\n",
      "Mens Shampoo             06.99\n",
      "ScrewDriver Toolset      12.99\n",
      "KeepFresh Detergent      13.99\n",
      "MouthWash                04.99\n"
     ]
    }
   ],
   "source": [
    "! pip install mysql-connector\n",
    "\n",
    "import mysql.connector\n",
    "\n",
    "# make sure the host matches your GCP instance along with the password created earlier.\n",
    "db = mysql.connector.connect(\n",
    "  host='34.94.61.132',\n",
    "  user='root',\n",
    "  passwd='superadmin123',\n",
    "  database='inventory'\n",
    ")\n",
    "\n",
    "cursor = db.cursor()\n",
    "\n",
    "cursor.execute(\"SELECT ProductName, RetailCost FROM product_table\")\n",
    "\n",
    "products = [{'name':rslt[0], 'price':rslt[1]} for rslt in cursor.fetchall()]\n",
    "\n",
    "print('product dictionary:', products)\n",
    "\n",
    "for product in products:\n",
    "    print('{:25}{:05.2f}'.format(product['name'], product['price']))\n",
    "\n",
    "# clean up\n",
    "cursor.close()\n",
    "db.close()"
   ]
  },
  {
   "cell_type": "markdown",
   "metadata": {},
   "source": [
    "#### **Lab:** Add your own data into the table!\n",
    "Using the SQL Insert Statement add a couple rows into the table, and then display the result. Example: `INSERT INTO product_table (ProductName,Description,ProductSku,QuantityInStock,ReorderLevel,WholeSaleCost,RetailCost) VALUES ('Sample Product', 'Sample Description', 123456, 4, 2, 3.55, 9.99)`"
   ]
  },
  {
   "cell_type": "code",
   "execution_count": null,
   "metadata": {},
   "outputs": [],
   "source": [
    "! pip install mysql-connector\n",
    "import mysql.connector\n",
    "import csv\n",
    "\n",
    "db = mysql.connector.connect(\n",
    "  host=\"34.94.61.132\",\n",
    "  user=\"root\",\n",
    "  passwd=\"superadmin123\",\n",
    "  database='inventory'\n",
    ")\n",
    "\n",
    "cursor = db.cursor()\n",
    "## Add your own execute Insert statement here!    \n",
    "\n",
    "db.commit()\n",
    "\n",
    "## Prints out the rows in the table\n",
    "cursor.execute(\"SELECT * FROM product_table\") \n",
    "\n",
    "result = cursor.fetchall()\n",
    "print(result)"
   ]
  },
  {
   "cell_type": "markdown",
   "metadata": {},
   "source": [
    "#### **Lab:** Try querying our database to find products that have a retail cost more than $6."
   ]
  },
  {
   "cell_type": "markdown",
   "metadata": {},
   "source": [
    "A query is a question we ask the database about our data. The language of retrieving our data is call _Structured Query Language_ or _SQL_.  \n",
    "To ask our database a question we must do so in the format `SELECT * FROM product_table WHERE WholeSaleCost > 7` The field `WholeSaleCost` can be any colume in our database.  Check out [SQL Operators from W3](https://www.w3schools.com/sql/sql_operators.asp) to understand the questions we can ask about our data."
   ]
  },
  {
   "cell_type": "code",
   "execution_count": null,
   "metadata": {},
   "outputs": [],
   "source": [
    "! pip install mysql-connector\n",
    "\n",
    "import mysql.connector\n",
    "\n",
    "db = mysql.connector.connect(\n",
    "  host=\"34.94.61.132\",\n",
    "  user=\"root\",\n",
    "  passwd=\"superadmin123\",\n",
    "  database='inventory'\n",
    ")\n",
    "\n",
    "cursor = db.cursor()\n",
    "## Fill out the Query to find products that have a retail cost greater than $6\n",
    "\n",
    "result = cursor.fetchall()\n",
    "print(result)"
   ]
  }
 ],
 "metadata": {
  "environment": {
   "name": "common-cpu.m49",
   "type": "gcloud",
   "uri": "gcr.io/deeplearning-platform-release/base-cpu:m49"
  },
  "kernelspec": {
   "display_name": "Python 3",
   "language": "python",
   "name": "python3"
  },
  "language_info": {
   "codemirror_mode": {
    "name": "ipython",
    "version": 3
   },
   "file_extension": ".py",
   "mimetype": "text/x-python",
   "name": "python",
   "nbconvert_exporter": "python",
   "pygments_lexer": "ipython3",
   "version": "3.7.6"
  }
 },
 "nbformat": 4,
 "nbformat_minor": 4
}
